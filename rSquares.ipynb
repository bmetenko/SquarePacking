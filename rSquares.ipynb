{
 "cells": [
  {
   "cell_type": "code",
   "execution_count": 125,
   "metadata": {
    "vscode": {
     "languageId": "r"
    }
   },
   "outputs": [],
   "source": [
    "library(R6)\n",
    "\n",
    "square <- R6Class(\"Square\",\n",
    "  public = list(\n",
    "    side = NULL,\n",
    "    area = NULL,\n",
    "    coordinates = NULL,\n",
    "    center = NULL,\n",
    "    initialize = function(side = NA) {\n",
    "      self$side <- side\n",
    "      self$coordinates <- self$calc_coordinates()\n",
    "      self$center <- self$calc_center()\n",
    "      self$area <- side * side\n",
    "    },\n",
    "    set_side = function(val) {\n",
    "      self$side <- val\n",
    "      self$coordinates <- self$calc_coordinates()\n",
    "    },\n",
    "    calc_coordinates = function() {\n",
    "      points <- list()\n",
    "      points$p1 <- list(x = 0, y = 0)\n",
    "      points$p2 <- list(x = 0, y = self$side)\n",
    "      points$p3 <- list(x = self$side, y = 0)\n",
    "      points$p4 <- list(x = self$side, y = self$side)\n",
    "      points\n",
    "    },\n",
    "    calc_center = function() {\n",
    "      point <- list(\n",
    "        x = (self$coordinates$p1$x + self$coordinates$p4$x) / 2,\n",
    "        y = (self$coordinates$p1$y + self$coordinates$p4$y) / 2\n",
    "      )\n",
    "      point\n",
    "    },\n",
    "    add_x = function(x0) {\n",
    "      for (i in 1:length(self$coordinates)) {\n",
    "        self$coordinates[[i]][[1]] <- self$coordinates[[i]][[1]] + x0\n",
    "      }\n",
    "      self$center <- self$calc_center()\n",
    "      self\n",
    "    },\n",
    "    add_y = function(y0) {\n",
    "      for (i in 1:length(self$coordinates)) {\n",
    "        self$coordinates[[i]][[2]] <- self$coordinates[[i]][[2]] + y0\n",
    "      }\n",
    "      self$center <- self$calc_center()\n",
    "      self\n",
    "    },\n",
    "    add_xy = function(x0, y0) {\n",
    "      self$center <- self$add_x(x0)\n",
    "      self$center <- self$add_y(y0)\n",
    "      self$center <- self$calc_center()\n",
    "      self\n",
    "    }\n",
    "  )\n",
    ")"
   ]
  },
  {
   "cell_type": "code",
   "execution_count": 126,
   "metadata": {
    "vscode": {
     "languageId": "r"
    }
   },
   "outputs": [
    {
     "data": {
      "text/html": [
       "0"
      ],
      "text/latex": [
       "0"
      ],
      "text/markdown": [
       "0"
      ],
      "text/plain": [
       "[1] 0"
      ]
     },
     "metadata": {},
     "output_type": "display_data"
    },
    {
     "data": {
      "text/html": [
       "3"
      ],
      "text/latex": [
       "3"
      ],
      "text/markdown": [
       "3"
      ],
      "text/plain": [
       "[1] 3"
      ]
     },
     "metadata": {},
     "output_type": "display_data"
    },
    {
     "data": {
      "text/html": [
       "9"
      ],
      "text/latex": [
       "9"
      ],
      "text/markdown": [
       "9"
      ],
      "text/plain": [
       "[1] 9"
      ]
     },
     "metadata": {},
     "output_type": "display_data"
    },
    {
     "data": {
      "text/html": [
       "1.5"
      ],
      "text/latex": [
       "1.5"
      ],
      "text/markdown": [
       "1.5"
      ],
      "text/plain": [
       "[1] 1.5"
      ]
     },
     "metadata": {},
     "output_type": "display_data"
    }
   ],
   "source": [
    "s1 <- square$new(side = 3)\n",
    "s1$coordinates$p1$x\n",
    "s1$side\n",
    "s1$area\n",
    "s1$center$x"
   ]
  },
  {
   "cell_type": "code",
   "execution_count": 127,
   "metadata": {
    "vscode": {
     "languageId": "r"
    }
   },
   "outputs": [
    {
     "data": {
      "text/html": [
       "<dl>\n",
       "\t<dt>$x</dt>\n",
       "\t\t<dd>4.5</dd>\n",
       "\t<dt>$y</dt>\n",
       "\t\t<dd>3.5</dd>\n",
       "</dl>\n"
      ],
      "text/latex": [
       "\\begin{description}\n",
       "\\item[\\$x] 4.5\n",
       "\\item[\\$y] 3.5\n",
       "\\end{description}\n"
      ],
      "text/markdown": [
       "$x\n",
       ":   4.5\n",
       "$y\n",
       ":   3.5\n",
       "\n",
       "\n"
      ],
      "text/plain": [
       "$x\n",
       "[1] 4.5\n",
       "\n",
       "$y\n",
       "[1] 3.5\n"
      ]
     },
     "metadata": {},
     "output_type": "display_data"
    }
   ],
   "source": [
    "s1$add_x(x0 = 2)$add_xy(x0 = 1, y0 = 2)$center"
   ]
  }
 ],
 "metadata": {
  "kernelspec": {
   "display_name": "R",
   "language": "R",
   "name": "ir"
  },
  "language_info": {
   "codemirror_mode": "r",
   "file_extension": ".r",
   "mimetype": "text/x-r-source",
   "name": "R",
   "pygments_lexer": "r",
   "version": "4.2.0"
  },
  "orig_nbformat": 4
 },
 "nbformat": 4,
 "nbformat_minor": 2
}
