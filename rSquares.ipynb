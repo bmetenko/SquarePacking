{
 "cells": [
  {
   "cell_type": "code",
   "execution_count": 1,
   "metadata": {
    "vscode": {
     "languageId": "r"
    }
   },
   "outputs": [],
   "source": [
    "library(R6)\n",
    "library(ggplot2)\n",
    "\n",
    "square <- R6Class(\"Square\",\n",
    "                  public = list(\n",
    "                    side = NULL,\n",
    "                    area = NULL,\n",
    "                    coordinates = NULL,\n",
    "                    center = NULL,\n",
    "                    rotate_times = NULL,\n",
    "                    width = NULL,\n",
    "                    length = NULL,\n",
    "                    id = NULL,\n",
    "                    initialize = function(side, id=NULL) {\n",
    "                      self$side <- side\n",
    "                      self$width <- side\n",
    "                      self$length <- side\n",
    "                      self$coordinates <- self$calc_coordinates()\n",
    "                      self$center <- self$calc_center()\n",
    "                      self$area <- side * side\n",
    "                      self$rotate_times <- 1\n",
    "                    },\n",
    "                    set_side = function(val) {\n",
    "                      self$side <- val\n",
    "                      self$coordinates <- self$calc_coordinates()\n",
    "                    },\n",
    "                    calc_coordinates = function() {\n",
    "                      points <- list()\n",
    "                      points$p1 <- list(x = 0, y = 0)\n",
    "                      points$p2 <- list(x = 0, y = self$side)\n",
    "                      points$p3 <- list(x = self$side, y = 0)\n",
    "                      points$p4 <- list(x = self$side, y = self$side)\n",
    "                      points\n",
    "                    },\n",
    "                    calc_center = function() {\n",
    "                      point <- list(\n",
    "                        x = (self$coordinates$p1$x + self$coordinates$p4$x) / 2,\n",
    "                        y = (self$coordinates$p1$y + self$coordinates$p4$y) / 2\n",
    "                      )\n",
    "                      point\n",
    "                    },\n",
    "                    add_x = function(x0) {\n",
    "                      for (i in 1:length(self$coordinates)) {\n",
    "                        self$coordinates[[i]][[1]] <- (\n",
    "                          self$coordinates[[i]][[1]] + x0\n",
    "                          )\n",
    "                      }\n",
    "                      self$center <- self$calc_center()\n",
    "                      self\n",
    "                    },\n",
    "                    add_y = function(y0) {\n",
    "                      for (i in 1:length(self$coordinates)) {\n",
    "                        self$coordinates[[i]][[2]] <- (\n",
    "                          self$coordinates[[i]][[2]] + y0\n",
    "                          )\n",
    "                      }\n",
    "                      self$center <- self$calc_center()\n",
    "                      self\n",
    "                    },\n",
    "                    add_xy = function(x0, y0) {\n",
    "                      self$center <- self$add_x(x0)\n",
    "                      self$center <- self$add_y(y0)\n",
    "                      self$center <- self$calc_center()\n",
    "                      self\n",
    "                    }\n",
    "                  )\n",
    ")"
   ]
  },
  {
   "cell_type": "code",
   "execution_count": 2,
   "metadata": {
    "vscode": {
     "languageId": "r"
    }
   },
   "outputs": [
    {
     "data": {
      "text/html": [
       "0"
      ],
      "text/latex": [
       "0"
      ],
      "text/markdown": [
       "0"
      ],
      "text/plain": [
       "[1] 0"
      ]
     },
     "metadata": {},
     "output_type": "display_data"
    },
    {
     "data": {
      "text/html": [
       "3"
      ],
      "text/latex": [
       "3"
      ],
      "text/markdown": [
       "3"
      ],
      "text/plain": [
       "[1] 3"
      ]
     },
     "metadata": {},
     "output_type": "display_data"
    },
    {
     "data": {
      "text/html": [
       "9"
      ],
      "text/latex": [
       "9"
      ],
      "text/markdown": [
       "9"
      ],
      "text/plain": [
       "[1] 9"
      ]
     },
     "metadata": {},
     "output_type": "display_data"
    },
    {
     "data": {
      "text/html": [
       "1.5"
      ],
      "text/latex": [
       "1.5"
      ],
      "text/markdown": [
       "1.5"
      ],
      "text/plain": [
       "[1] 1.5"
      ]
     },
     "metadata": {},
     "output_type": "display_data"
    }
   ],
   "source": [
    "s1 <- square$new(side = 3)\n",
    "s1$coordinates$p1$x\n",
    "s1$side\n",
    "s1$area\n",
    "s1$center$x"
   ]
  },
  {
   "cell_type": "code",
   "execution_count": 3,
   "metadata": {
    "vscode": {
     "languageId": "r"
    }
   },
   "outputs": [
    {
     "data": {
      "text/plain": [
       "<Square>\n",
       "  Public:\n",
       "    add_x: function (x0) \n",
       "    add_xy: function (x0, y0) \n",
       "    add_y: function (y0) \n",
       "    area: 9\n",
       "    calc_center: function () \n",
       "    calc_coordinates: function () \n",
       "    center: list\n",
       "    clone: function (deep = FALSE) \n",
       "    coordinates: list\n",
       "    id: NULL\n",
       "    initialize: function (side, id = NULL) \n",
       "    length: 3\n",
       "    rotate_times: 1\n",
       "    set_side: function (val) \n",
       "    side: 3\n",
       "    width: 3"
      ]
     },
     "metadata": {},
     "output_type": "display_data"
    },
    {
     "name": "stdout",
     "output_type": "stream",
     "text": [
      "$p1\n",
      "$p1$x\n",
      "[1] 3\n",
      "\n",
      "$p1$y\n",
      "[1] 2\n",
      "\n",
      "\n",
      "$p2\n",
      "$p2$x\n",
      "[1] 3\n",
      "\n",
      "$p2$y\n",
      "[1] 5\n",
      "\n",
      "\n",
      "$p3\n",
      "$p3$x\n",
      "[1] 6\n",
      "\n",
      "$p3$y\n",
      "[1] 2\n",
      "\n",
      "\n",
      "$p4\n",
      "$p4$x\n",
      "[1] 6\n",
      "\n",
      "$p4$y\n",
      "[1] 5\n",
      "\n",
      "\n"
     ]
    }
   ],
   "source": [
    "s1$add_x(x0 = 2)$add_xy(x0 = 1, y0 = 2)\n",
    "print(s1$coordinates)"
   ]
  },
  {
   "cell_type": "code",
   "execution_count": 4,
   "metadata": {
    "vscode": {
     "languageId": "r"
    }
   },
   "outputs": [],
   "source": [
    "check_bounds <- function(sq, frame, x, y, len, width) {\n",
    "  out <- TRUE\n",
    "  for (cellx in 1:len) {\n",
    "    for (celly in 1:width) {\n",
    "      if (out) {\n",
    "        y0 <- celly + y - 1\n",
    "        x0 <- cellx + x - 1\n",
    "        if (frame[x0, y0] != 0) {\n",
    "            out <- FALSE\n",
    "          }\n",
    "      }\n",
    "    }\n",
    "  }\n",
    "  return(out)\n",
    "}"
   ]
  },
  {
   "cell_type": "code",
   "execution_count": 5,
   "metadata": {
    "vscode": {
     "languageId": "r"
    }
   },
   "outputs": [],
   "source": [
    "square_canvas <- R6Class(\n",
    "    \"SquareCanvas\",\n",
    "    public = list(\n",
    "      max_bound = NULL,\n",
    "      contents = NULL,\n",
    "      frame_override = NULL,\n",
    "      validate = NULL,\n",
    "      rotation = NULL,\n",
    "      frame = NULL,\n",
    "      x_max = NULL,\n",
    "      x_min = NULL,\n",
    "      y_max = NULL,\n",
    "      y_min = NULL\n",
    "      ,\n",
    "      initialize = function(\n",
    "        max_bound = 10,\n",
    "        contents = list(),\n",
    "        frame_override = NULL,\n",
    "        validate = TRUE,\n",
    "        allow_rotation = FALSE\n",
    "      ) {\n",
    "        self$max_bound <- max_bound\n",
    "        if (is.null(frame_override)) {\n",
    "          self$frame <- matrix(0, self$max_bound, self$max_bound)\n",
    "        } else {\n",
    "          self$frame <- frame_override\n",
    "        }\n",
    "        self$x_max <- dim(self$frame)[1]\n",
    "        self$y_max <- dim(self$frame)[2]\n",
    "        self$x_min <- 0\n",
    "        self$y_min <- 0\n",
    "        self$rotation <- allow_rotation\n",
    "        # sorted contents?\n",
    "        for (sq in contents) {\n",
    "          self$add_contents(sq)\n",
    "        }\n",
    "        if (validate) {\n",
    "          self$check_all_filled(contents)\n",
    "        }\n",
    "      },\n",
    "      add_contents = function(sq) {\n",
    "        placed <- FALSE\n",
    "        max_rotate <- ifelse(self$rotation, sq$rotate_times, 1)\n",
    "        for (rot in 1:max_rotate) {\n",
    "          if (!placed) {\n",
    "            if ((class(square$new(6)) != \"Square\")[1]) {\n",
    "              sq$rotate(90 * rot)\n",
    "            }\n",
    "            len <- sq$width\n",
    "            width <- sq$length\n",
    "            for (x in 1:nrow(self$frame)) {\n",
    "              for (y in 1:ncol(self$frame)) {\n",
    "                if (\n",
    "                  (!placed) &\n",
    "                  (self$frame[x, y] == 0) &\n",
    "                  !(((x + len - 1) > self$x_max) & ((x + len) > 0)) &\n",
    "                  !(((y + width - 1) > self$y_max) & ((y + width < 0)))\n",
    "                ) {\n",
    "                  fit <- check_bounds(sq, self$frame, x, y, len, width)\n",
    "\n",
    "                  if (fit) {\n",
    "                    self$contents <- c(self$contents, sq)\n",
    "                    sq$add_xy(x, y)\n",
    "                    placed <- TRUE\n",
    "                    for (cellx in 1:len) {\n",
    "                      for (celly in 1:width) {\n",
    "                        y0 <- celly + y - 1\n",
    "                        x0 <- cellx + x - 1\n",
    "                        self$frame[x0, y0] <- length(self$contents)\n",
    "                      }\n",
    "                    }\n",
    "                  }\n",
    "                }\n",
    "              }\n",
    "            }\n",
    "          }\n",
    "        }\n",
    "        if (!placed) {\n",
    "          print(\"Sq not placed...\")\n",
    "          }\n",
    "      },\n",
    "      x_list = function() {\n",
    "        return(\n",
    "          sapply(self$contents,\n",
    "                 function(x) {\n",
    "                   x$center[1]\n",
    "                 }))\n",
    "      },\n",
    "      y_list = function() {\n",
    "        return(\n",
    "          sapply(self$contents,\n",
    "                 function(x) {\n",
    "                   x$center[2]\n",
    "                 }))\n",
    "      },\n",
    "      center_list = function() {\n",
    "        return(\n",
    "          sapply(self$contents,\n",
    "                 function(x) {\n",
    "                   x$center\n",
    "                 }))\n",
    "      },\n",
    "      generate_ggplot = function(\n",
    "        show_text = TRUE,\n",
    "        palette = NULL\n",
    "      ) {\n",
    "        coords <- sapply(self$contents, function(x) {\n",
    "          x\n",
    "          })\n",
    "        x_min <- sapply(coords, function(x) {\n",
    "          x$coordinates$p1$x - 1\n",
    "          })\n",
    "        x_max <- sapply(coords, function(x) {\n",
    "          x$coordinates$p4$x - 1\n",
    "          })\n",
    "        y_min <- sapply(coords, function(x) {\n",
    "          x$coordinates$p1$y - 1\n",
    "          })\n",
    "        y_max <- sapply(coords, function(x) {\n",
    "          x$coordinates$p4$y - 1\n",
    "          })\n",
    "        col <- sapply(\n",
    "          paste(\n",
    "            lapply(coords, function(x) {\n",
    "              paste(x$coordinates)\n",
    "              })\n",
    "            ), paste\n",
    "            )\n",
    "        df <- data.frame(\n",
    "          x_min = x_min,\n",
    "          x_max = x_max,\n",
    "          y_min = y_min,\n",
    "          y_max = y_max\n",
    "        )\n",
    "        pl <- ggplot(df) + xlim(\n",
    "          self$x_min, self$x_max\n",
    "          ) + ylim(\n",
    "            self$y_min, self$y_max\n",
    "            )\n",
    "\n",
    "        pl <- pl +\n",
    "          geom_rect(\n",
    "            xmin = x_min,\n",
    "            ymin = y_min,\n",
    "            xmax = x_max,\n",
    "            ymax = y_max,\n",
    "            aes(fill = col)\n",
    "            ) +\n",
    "          theme(legend.position = \"none\")\n",
    "        return(pl)\n",
    "      },\n",
    "      check_all_filled = function(val) {\n",
    "      }\n",
    "    ))"
   ]
  },
  {
   "cell_type": "code",
   "execution_count": 13,
   "metadata": {
    "vscode": {
     "languageId": "r"
    }
   },
   "outputs": [],
   "source": [
    "A <- square_canvas$new(contents = c(square$new(6), square$new(4)))\n",
    "\n",
    "B  <- square_canvas$new(\n",
    "    contents = sapply(\n",
    "      c(\n",
    "        c(1, 2, 3, 4, 4, 3, 3, 3, 2, 1, 2, 3, 1),\n",
    "        rep(c(1), 8)\n",
    "      ), square$new)\n",
    "  )"
   ]
  },
  {
   "cell_type": "code",
   "execution_count": 14,
   "metadata": {
    "vscode": {
     "languageId": "r"
    }
   },
   "outputs": [
    {
     "data": {
      "text/html": [
       "<table class=\"dataframe\">\n",
       "<caption>A matrix: 10 × 10 of type dbl</caption>\n",
       "<tbody>\n",
       "\t<tr><td>1</td><td>1</td><td>1</td><td>1</td><td>1</td><td>1</td><td>2</td><td>2</td><td>2</td><td>2</td></tr>\n",
       "\t<tr><td>1</td><td>1</td><td>1</td><td>1</td><td>1</td><td>1</td><td>2</td><td>2</td><td>2</td><td>2</td></tr>\n",
       "\t<tr><td>1</td><td>1</td><td>1</td><td>1</td><td>1</td><td>1</td><td>2</td><td>2</td><td>2</td><td>2</td></tr>\n",
       "\t<tr><td>1</td><td>1</td><td>1</td><td>1</td><td>1</td><td>1</td><td>2</td><td>2</td><td>2</td><td>2</td></tr>\n",
       "\t<tr><td>1</td><td>1</td><td>1</td><td>1</td><td>1</td><td>1</td><td>0</td><td>0</td><td>0</td><td>0</td></tr>\n",
       "\t<tr><td>1</td><td>1</td><td>1</td><td>1</td><td>1</td><td>1</td><td>0</td><td>0</td><td>0</td><td>0</td></tr>\n",
       "\t<tr><td>0</td><td>0</td><td>0</td><td>0</td><td>0</td><td>0</td><td>0</td><td>0</td><td>0</td><td>0</td></tr>\n",
       "\t<tr><td>0</td><td>0</td><td>0</td><td>0</td><td>0</td><td>0</td><td>0</td><td>0</td><td>0</td><td>0</td></tr>\n",
       "\t<tr><td>0</td><td>0</td><td>0</td><td>0</td><td>0</td><td>0</td><td>0</td><td>0</td><td>0</td><td>0</td></tr>\n",
       "\t<tr><td>0</td><td>0</td><td>0</td><td>0</td><td>0</td><td>0</td><td>0</td><td>0</td><td>0</td><td>0</td></tr>\n",
       "</tbody>\n",
       "</table>\n"
      ],
      "text/latex": [
       "A matrix: 10 × 10 of type dbl\n",
       "\\begin{tabular}{llllllllll}\n",
       "\t 1 & 1 & 1 & 1 & 1 & 1 & 2 & 2 & 2 & 2\\\\\n",
       "\t 1 & 1 & 1 & 1 & 1 & 1 & 2 & 2 & 2 & 2\\\\\n",
       "\t 1 & 1 & 1 & 1 & 1 & 1 & 2 & 2 & 2 & 2\\\\\n",
       "\t 1 & 1 & 1 & 1 & 1 & 1 & 2 & 2 & 2 & 2\\\\\n",
       "\t 1 & 1 & 1 & 1 & 1 & 1 & 0 & 0 & 0 & 0\\\\\n",
       "\t 1 & 1 & 1 & 1 & 1 & 1 & 0 & 0 & 0 & 0\\\\\n",
       "\t 0 & 0 & 0 & 0 & 0 & 0 & 0 & 0 & 0 & 0\\\\\n",
       "\t 0 & 0 & 0 & 0 & 0 & 0 & 0 & 0 & 0 & 0\\\\\n",
       "\t 0 & 0 & 0 & 0 & 0 & 0 & 0 & 0 & 0 & 0\\\\\n",
       "\t 0 & 0 & 0 & 0 & 0 & 0 & 0 & 0 & 0 & 0\\\\\n",
       "\\end{tabular}\n"
      ],
      "text/markdown": [
       "\n",
       "A matrix: 10 × 10 of type dbl\n",
       "\n",
       "| 1 | 1 | 1 | 1 | 1 | 1 | 2 | 2 | 2 | 2 |\n",
       "| 1 | 1 | 1 | 1 | 1 | 1 | 2 | 2 | 2 | 2 |\n",
       "| 1 | 1 | 1 | 1 | 1 | 1 | 2 | 2 | 2 | 2 |\n",
       "| 1 | 1 | 1 | 1 | 1 | 1 | 2 | 2 | 2 | 2 |\n",
       "| 1 | 1 | 1 | 1 | 1 | 1 | 0 | 0 | 0 | 0 |\n",
       "| 1 | 1 | 1 | 1 | 1 | 1 | 0 | 0 | 0 | 0 |\n",
       "| 0 | 0 | 0 | 0 | 0 | 0 | 0 | 0 | 0 | 0 |\n",
       "| 0 | 0 | 0 | 0 | 0 | 0 | 0 | 0 | 0 | 0 |\n",
       "| 0 | 0 | 0 | 0 | 0 | 0 | 0 | 0 | 0 | 0 |\n",
       "| 0 | 0 | 0 | 0 | 0 | 0 | 0 | 0 | 0 | 0 |\n",
       "\n"
      ],
      "text/plain": [
       "      [,1] [,2] [,3] [,4] [,5] [,6] [,7] [,8] [,9] [,10]\n",
       " [1,] 1    1    1    1    1    1    2    2    2    2    \n",
       " [2,] 1    1    1    1    1    1    2    2    2    2    \n",
       " [3,] 1    1    1    1    1    1    2    2    2    2    \n",
       " [4,] 1    1    1    1    1    1    2    2    2    2    \n",
       " [5,] 1    1    1    1    1    1    0    0    0    0    \n",
       " [6,] 1    1    1    1    1    1    0    0    0    0    \n",
       " [7,] 0    0    0    0    0    0    0    0    0    0    \n",
       " [8,] 0    0    0    0    0    0    0    0    0    0    \n",
       " [9,] 0    0    0    0    0    0    0    0    0    0    \n",
       "[10,] 0    0    0    0    0    0    0    0    0    0    "
      ]
     },
     "metadata": {},
     "output_type": "display_data"
    }
   ],
   "source": [
    "A$frame"
   ]
  },
  {
   "cell_type": "code",
   "execution_count": 8,
   "metadata": {
    "vscode": {
     "languageId": "r"
    }
   },
   "outputs": [
    {
     "data": {
      "image/png": "[encoded data removed]",
      "text/plain": [
       "plot without title"
      ]
     },
     "metadata": {
      "image/png": {
       "height": 420,
       "width": 420
      }
     },
     "output_type": "display_data"
    }
   ],
   "source": [
    "A$generate_ggplot()"
   ]
  },
  {
   "cell_type": "code",
   "execution_count": 15,
   "metadata": {
    "vscode": {
     "languageId": "r"
    }
   },
   "outputs": [
    {
     "data": {
      "image/png": "[encoded data removed]",
      "text/plain": [
       "plot without title"
      ]
     },
     "metadata": {
      "image/png": {
       "height": 420,
       "width": 420
      }
     },
     "output_type": "display_data"
    }
   ],
   "source": [
    "B$generate_ggplot()\n",
    "# Same value class instances seem to point to the same memory objects?"
   ]
  },
  {
   "cell_type": "code",
   "execution_count": 10,
   "metadata": {
    "vscode": {
     "languageId": "r"
    }
   },
   "outputs": [
    {
     "data": {
      "text/html": [
       "<table class=\"dataframe\">\n",
       "<caption>A matrix: 10 × 10 of type dbl</caption>\n",
       "<tbody>\n",
       "\t<tr><td> 1</td><td>2</td><td>2</td><td>3</td><td>3</td><td> 3</td><td> 4</td><td> 4</td><td> 4</td><td> 4</td></tr>\n",
       "\t<tr><td>10</td><td>2</td><td>2</td><td>3</td><td>3</td><td> 3</td><td> 4</td><td> 4</td><td> 4</td><td> 4</td></tr>\n",
       "\t<tr><td>13</td><td>0</td><td>0</td><td>3</td><td>3</td><td> 3</td><td> 4</td><td> 4</td><td> 4</td><td> 4</td></tr>\n",
       "\t<tr><td> 5</td><td>5</td><td>5</td><td>5</td><td>0</td><td> 0</td><td> 4</td><td> 4</td><td> 4</td><td> 4</td></tr>\n",
       "\t<tr><td> 5</td><td>5</td><td>5</td><td>5</td><td>6</td><td> 6</td><td> 6</td><td> 7</td><td> 7</td><td> 7</td></tr>\n",
       "\t<tr><td> 5</td><td>5</td><td>5</td><td>5</td><td>6</td><td> 6</td><td> 6</td><td> 7</td><td> 7</td><td> 7</td></tr>\n",
       "\t<tr><td> 5</td><td>5</td><td>5</td><td>5</td><td>6</td><td> 6</td><td> 6</td><td> 7</td><td> 7</td><td> 7</td></tr>\n",
       "\t<tr><td> 8</td><td>8</td><td>8</td><td>9</td><td>9</td><td>11</td><td>11</td><td>12</td><td>12</td><td>12</td></tr>\n",
       "\t<tr><td> 8</td><td>8</td><td>8</td><td>9</td><td>9</td><td>11</td><td>11</td><td>12</td><td>12</td><td>12</td></tr>\n",
       "\t<tr><td> 8</td><td>8</td><td>8</td><td>0</td><td>0</td><td> 0</td><td> 0</td><td>12</td><td>12</td><td>12</td></tr>\n",
       "</tbody>\n",
       "</table>\n"
      ],
      "text/latex": [
       "A matrix: 10 × 10 of type dbl\n",
       "\\begin{tabular}{llllllllll}\n",
       "\t  1 & 2 & 2 & 3 & 3 &  3 &  4 &  4 &  4 &  4\\\\\n",
       "\t 10 & 2 & 2 & 3 & 3 &  3 &  4 &  4 &  4 &  4\\\\\n",
       "\t 13 & 0 & 0 & 3 & 3 &  3 &  4 &  4 &  4 &  4\\\\\n",
       "\t  5 & 5 & 5 & 5 & 0 &  0 &  4 &  4 &  4 &  4\\\\\n",
       "\t  5 & 5 & 5 & 5 & 6 &  6 &  6 &  7 &  7 &  7\\\\\n",
       "\t  5 & 5 & 5 & 5 & 6 &  6 &  6 &  7 &  7 &  7\\\\\n",
       "\t  5 & 5 & 5 & 5 & 6 &  6 &  6 &  7 &  7 &  7\\\\\n",
       "\t  8 & 8 & 8 & 9 & 9 & 11 & 11 & 12 & 12 & 12\\\\\n",
       "\t  8 & 8 & 8 & 9 & 9 & 11 & 11 & 12 & 12 & 12\\\\\n",
       "\t  8 & 8 & 8 & 0 & 0 &  0 &  0 & 12 & 12 & 12\\\\\n",
       "\\end{tabular}\n"
      ],
      "text/markdown": [
       "\n",
       "A matrix: 10 × 10 of type dbl\n",
       "\n",
       "|  1 | 2 | 2 | 3 | 3 |  3 |  4 |  4 |  4 |  4 |\n",
       "| 10 | 2 | 2 | 3 | 3 |  3 |  4 |  4 |  4 |  4 |\n",
       "| 13 | 0 | 0 | 3 | 3 |  3 |  4 |  4 |  4 |  4 |\n",
       "|  5 | 5 | 5 | 5 | 0 |  0 |  4 |  4 |  4 |  4 |\n",
       "|  5 | 5 | 5 | 5 | 6 |  6 |  6 |  7 |  7 |  7 |\n",
       "|  5 | 5 | 5 | 5 | 6 |  6 |  6 |  7 |  7 |  7 |\n",
       "|  5 | 5 | 5 | 5 | 6 |  6 |  6 |  7 |  7 |  7 |\n",
       "|  8 | 8 | 8 | 9 | 9 | 11 | 11 | 12 | 12 | 12 |\n",
       "|  8 | 8 | 8 | 9 | 9 | 11 | 11 | 12 | 12 | 12 |\n",
       "|  8 | 8 | 8 | 0 | 0 |  0 |  0 | 12 | 12 | 12 |\n",
       "\n"
      ],
      "text/plain": [
       "      [,1] [,2] [,3] [,4] [,5] [,6] [,7] [,8] [,9] [,10]\n",
       " [1,]  1   2    2    3    3     3    4    4    4    4   \n",
       " [2,] 10   2    2    3    3     3    4    4    4    4   \n",
       " [3,] 13   0    0    3    3     3    4    4    4    4   \n",
       " [4,]  5   5    5    5    0     0    4    4    4    4   \n",
       " [5,]  5   5    5    5    6     6    6    7    7    7   \n",
       " [6,]  5   5    5    5    6     6    6    7    7    7   \n",
       " [7,]  5   5    5    5    6     6    6    7    7    7   \n",
       " [8,]  8   8    8    9    9    11   11   12   12   12   \n",
       " [9,]  8   8    8    9    9    11   11   12   12   12   \n",
       "[10,]  8   8    8    0    0     0    0   12   12   12   "
      ]
     },
     "metadata": {},
     "output_type": "display_data"
    }
   ],
   "source": [
    "B$frame"
   ]
  }
 ],
 "metadata": {
  "kernelspec": {
   "display_name": "R",
   "language": "R",
   "name": "ir"
  },
  "language_info": {
   "codemirror_mode": "r",
   "file_extension": ".r",
   "mimetype": "text/x-r-source",
   "name": "R",
   "pygments_lexer": "r",
   "version": "4.2.0"
  },
  "orig_nbformat": 4
 },
 "nbformat": 4,
 "nbformat_minor": 2
}
