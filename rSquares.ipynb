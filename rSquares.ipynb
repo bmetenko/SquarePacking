{
 "cells": [
  {
   "cell_type": "code",
   "execution_count": 28,
   "metadata": {
    "vscode": {
     "languageId": "r"
    }
   },
   "outputs": [],
   "source": [
    "library(R6)\n",
    "library(ggplot2)\n",
    "\n",
    "square <- R6Class(\"Square\",\n",
    "                  public = list(\n",
    "                    side = NULL,\n",
    "                    area = NULL,\n",
    "                    coordinates = NULL,\n",
    "                    center = NULL,\n",
    "                    rotate_times = NULL,\n",
    "                    width = NULL,\n",
    "                    length = NULL,\n",
    "                    initialize = function(side) {\n",
    "                      self$side <- side\n",
    "                      self$width <- side\n",
    "                      self$length <- side\n",
    "                      self$coordinates <- self$calc_coordinates()\n",
    "                      self$center <- self$calc_center()\n",
    "                      self$area <- side * side\n",
    "                      self$rotate_times <- 1\n",
    "                    },\n",
    "                    set_side = function(val) {\n",
    "                      self$side <- val\n",
    "                      self$coordinates <- self$calc_coordinates()\n",
    "                    },\n",
    "                    calc_coordinates = function() {\n",
    "                      points <- list()\n",
    "                      points$p1 <- list(x = 0, y = 0)\n",
    "                      points$p2 <- list(x = 0, y = self$side)\n",
    "                      points$p3 <- list(x = self$side, y = 0)\n",
    "                      points$p4 <- list(x = self$side, y = self$side)\n",
    "                      points\n",
    "                    },\n",
    "                    calc_center = function() {\n",
    "                      point <- list(\n",
    "                        x = (self$coordinates$p1$x + self$coordinates$p4$x) / 2,\n",
    "                        y = (self$coordinates$p1$y + self$coordinates$p4$y) / 2\n",
    "                      )\n",
    "                      point\n",
    "                    },\n",
    "                    add_x = function(x0) {\n",
    "                      for (i in 1:length(self$coordinates)) {\n",
    "                        self$coordinates[[i]][[1]] <- self$coordinates[[i]][[1]] + x0\n",
    "                      }\n",
    "                      self$center <- self$calc_center()\n",
    "                      self\n",
    "                    },\n",
    "                    add_y = function(y0) {\n",
    "                      for (i in 1:length(self$coordinates)) {\n",
    "                        self$coordinates[[i]][[2]] <- self$coordinates[[i]][[2]] + y0\n",
    "                      }\n",
    "                      self$center <- self$calc_center()\n",
    "                      self\n",
    "                    },\n",
    "                    add_xy = function(x0, y0) {\n",
    "                      self$center <- self$add_x(x0)\n",
    "                      self$center <- self$add_y(y0)\n",
    "                      self$center <- self$calc_center()\n",
    "                      self\n",
    "                    }\n",
    "                  )\n",
    ")"
   ]
  },
  {
   "cell_type": "code",
   "execution_count": 29,
   "metadata": {
    "vscode": {
     "languageId": "r"
    }
   },
   "outputs": [
    {
     "data": {
      "text/html": [
       "0"
      ],
      "text/latex": [
       "0"
      ],
      "text/markdown": [
       "0"
      ],
      "text/plain": [
       "[1] 0"
      ]
     },
     "metadata": {},
     "output_type": "display_data"
    },
    {
     "data": {
      "text/html": [
       "3"
      ],
      "text/latex": [
       "3"
      ],
      "text/markdown": [
       "3"
      ],
      "text/plain": [
       "[1] 3"
      ]
     },
     "metadata": {},
     "output_type": "display_data"
    },
    {
     "data": {
      "text/html": [
       "9"
      ],
      "text/latex": [
       "9"
      ],
      "text/markdown": [
       "9"
      ],
      "text/plain": [
       "[1] 9"
      ]
     },
     "metadata": {},
     "output_type": "display_data"
    },
    {
     "data": {
      "text/html": [
       "1.5"
      ],
      "text/latex": [
       "1.5"
      ],
      "text/markdown": [
       "1.5"
      ],
      "text/plain": [
       "[1] 1.5"
      ]
     },
     "metadata": {},
     "output_type": "display_data"
    }
   ],
   "source": [
    "s1 <- square$new(side = 3)\n",
    "s1$coordinates$p1$x\n",
    "s1$side\n",
    "s1$area\n",
    "s1$center$x"
   ]
  },
  {
   "cell_type": "code",
   "execution_count": 30,
   "metadata": {
    "vscode": {
     "languageId": "r"
    }
   },
   "outputs": [
    {
     "data": {
      "text/plain": [
       "<Square>\n",
       "  Public:\n",
       "    add_x: function (x0) \n",
       "    add_xy: function (x0, y0) \n",
       "    add_y: function (y0) \n",
       "    area: 9\n",
       "    calc_center: function () \n",
       "    calc_coordinates: function () \n",
       "    center: list\n",
       "    clone: function (deep = FALSE) \n",
       "    coordinates: list\n",
       "    initialize: function (side) \n",
       "    length: 3\n",
       "    rotate_times: 1\n",
       "    set_side: function (val) \n",
       "    side: 3\n",
       "    width: 3"
      ]
     },
     "metadata": {},
     "output_type": "display_data"
    },
    {
     "name": "stdout",
     "output_type": "stream",
     "text": [
      "$p1\n",
      "$p1$x\n",
      "[1] 3\n",
      "\n",
      "$p1$y\n",
      "[1] 2\n",
      "\n",
      "\n",
      "$p2\n",
      "$p2$x\n",
      "[1] 3\n",
      "\n",
      "$p2$y\n",
      "[1] 5\n",
      "\n",
      "\n",
      "$p3\n",
      "$p3$x\n",
      "[1] 6\n",
      "\n",
      "$p3$y\n",
      "[1] 2\n",
      "\n",
      "\n",
      "$p4\n",
      "$p4$x\n",
      "[1] 6\n",
      "\n",
      "$p4$y\n",
      "[1] 5\n",
      "\n",
      "\n"
     ]
    }
   ],
   "source": [
    "s1$add_x(x0 = 2)$add_xy(x0 = 1, y0 = 2)\n",
    "print(s1$coordinates)"
   ]
  },
  {
   "cell_type": "code",
   "execution_count": 31,
   "metadata": {
    "vscode": {
     "languageId": "r"
    }
   },
   "outputs": [],
   "source": [
    "check_bounds <- function(sq, frame, x, y, len, width){\n",
    "  out <- TRUE\n",
    "  \n",
    "  for (cellx in 1:len){\n",
    "    for (celly in 1:width) {\n",
    "      if (out){\n",
    "        y0 = celly + y - 1\n",
    "        x0 = cellx + x - 1\n",
    "        \n",
    "        if (frame[x0, y0] != 0){\n",
    "            out <- FALSE\n",
    "          }\n",
    "      }\n",
    "    }\n",
    "  }\n",
    "  \n",
    "  return(out)\n",
    "  \n",
    "}"
   ]
  },
  {
   "cell_type": "code",
   "execution_count": 32,
   "metadata": {
    "vscode": {
     "languageId": "r"
    }
   },
   "outputs": [],
   "source": [
    "square_canvas <- R6Class(\n",
    "    \"SquareCanvas\",\n",
    "    public = list(\n",
    "      max_bound = NULL,\n",
    "      contents = NULL,\n",
    "      frame_override = NULL,\n",
    "      validate = NULL,\n",
    "      rotation = NULL,\n",
    "      frame=NULL,\n",
    "      x_max=NULL,\n",
    "      x_min=NULL,\n",
    "      y_max=NULL,\n",
    "      y_min=NULL\n",
    "      ,\n",
    "      initialize = function(\n",
    "        max_bound = 10,\n",
    "        contents = list(),\n",
    "        frame_override = NULL,\n",
    "        validate = TRUE,\n",
    "        allow_rotation = FALSE\n",
    "      ) {\n",
    "        self$max_bound <- max_bound\n",
    "        \n",
    "        if (is.null(frame_override)){\n",
    "          self$frame <- matrix(0, self$max_bound, self$max_bound)\n",
    "        } else {\n",
    "          self$frame <- frame_override\n",
    "        }\n",
    "        \n",
    "        self$x_max <- dim(self$frame)[1]\n",
    "        self$y_max <- dim(self$frame)[2]\n",
    "        self$x_min <- 0\n",
    "        self$y_min <- 0\n",
    "        \n",
    "        self$rotation <- allow_rotation\n",
    "        # sorted contents?\n",
    "        \n",
    "        for (sq in contents) {\n",
    "          self$add_contents(sq)\n",
    "        }\n",
    "        \n",
    "        if (validate) {\n",
    "          self$check_all_filled(contents)\n",
    "        }\n",
    "        \n",
    "      },\n",
    "      add_contents = function(sq){\n",
    "        placed <- FALSE\n",
    "        max_rotate <- ifelse(self$rotation, sq$rotate_times, 1)\n",
    "        for (rot in 1:max_rotate) {\n",
    "          if (!placed) {\n",
    "            if((class(square$new(6)) != \"Square\")[1]){\n",
    "              sq$rotate(90 * rot)\n",
    "            }\n",
    "            \n",
    "            len <- sq$width\n",
    "            width <- sq$length\n",
    "            for (x in 1:nrow(self$frame)) {\n",
    "              for (y in 1:ncol(self$frame)) {\n",
    "                if (\n",
    "                  (!placed) &\n",
    "                  (self$frame[x, y] == 0) &\n",
    "                  !(((x + len + 1) >= self$x_max) & ((x + len) > 0)) &\n",
    "                  !(((y + width + 1) >= self$y_max) & ((y + width < 0)))\n",
    "                ) {\n",
    "                  fit <- check_bounds(sq, self$frame, x, y, len, width)\n",
    "\n",
    "                  if (fit) {\n",
    "                    self$contents <- c(self$contents, sq)\n",
    "                    sq$add_xy(x, y)\n",
    "                    placed <- TRUE\n",
    "                    for (cellx in 1:len) {\n",
    "                      for (celly in 1:width) {\n",
    "                        y0 <- celly + y - 1\n",
    "                        x0 <- cellx + x - 1\n",
    "                        self$frame[x0, y0] <- length(self$contents)\n",
    "                      }\n",
    "                    }\n",
    "                  }\n",
    "                }\n",
    "              }\n",
    "            }\n",
    "          }\n",
    "        }\n",
    "        # if not placed:\n",
    "        #   raise IndexError(\"Not all placed...\")\n",
    "      },\n",
    "      x_list = function() {\n",
    "        return(\n",
    "          sapply(self$contents,\n",
    "                 function(x) {\n",
    "                   x$center[1]\n",
    "                 }))\n",
    "      },\n",
    "      y_list = function() {\n",
    "        return(\n",
    "          sapply(self$contents,\n",
    "                 function(x) {\n",
    "                   x$center[2]\n",
    "                 }))\n",
    "      },\n",
    "      center_list = function() {\n",
    "        return(\n",
    "          sapply(self$contents,\n",
    "                 function(x) {\n",
    "                   x$center\n",
    "                 }))\n",
    "      },\n",
    "      generate_ggplot = function(\n",
    "        show_text = TRUE,\n",
    "        palette = NULL\n",
    "      ) {\n",
    "        df <- data.frame()\n",
    "        ggplot(df) +\n",
    "        geom_point() +\n",
    "        xlim(self$x_min, self$x_max) +\n",
    "        ylim(self$y_min, self$y_max)\n",
    "        \n",
    "      },\n",
    "      check_all_filled = function(val) {\n",
    "        \n",
    "      }\n",
    "    ))"
   ]
  },
  {
   "cell_type": "code",
   "execution_count": 33,
   "metadata": {
    "vscode": {
     "languageId": "r"
    }
   },
   "outputs": [],
   "source": [
    "  A <- square_canvas$new(contents = c(square$new(6), square$new(4)))"
   ]
  },
  {
   "cell_type": "code",
   "execution_count": 35,
   "metadata": {
    "vscode": {
     "languageId": "r"
    }
   },
   "outputs": [
    {
     "data": {
      "text/html": [
       "<table class=\"dataframe\">\n",
       "<caption>A matrix: 10 × 10 of type dbl</caption>\n",
       "<tbody>\n",
       "\t<tr><td>1</td><td>1</td><td>1</td><td>1</td><td>1</td><td>1</td><td>2</td><td>2</td><td>2</td><td>2</td></tr>\n",
       "\t<tr><td>1</td><td>1</td><td>1</td><td>1</td><td>1</td><td>1</td><td>2</td><td>2</td><td>2</td><td>2</td></tr>\n",
       "\t<tr><td>1</td><td>1</td><td>1</td><td>1</td><td>1</td><td>1</td><td>2</td><td>2</td><td>2</td><td>2</td></tr>\n",
       "\t<tr><td>1</td><td>1</td><td>1</td><td>1</td><td>1</td><td>1</td><td>2</td><td>2</td><td>2</td><td>2</td></tr>\n",
       "\t<tr><td>1</td><td>1</td><td>1</td><td>1</td><td>1</td><td>1</td><td>0</td><td>0</td><td>0</td><td>0</td></tr>\n",
       "\t<tr><td>1</td><td>1</td><td>1</td><td>1</td><td>1</td><td>1</td><td>0</td><td>0</td><td>0</td><td>0</td></tr>\n",
       "\t<tr><td>0</td><td>0</td><td>0</td><td>0</td><td>0</td><td>0</td><td>0</td><td>0</td><td>0</td><td>0</td></tr>\n",
       "\t<tr><td>0</td><td>0</td><td>0</td><td>0</td><td>0</td><td>0</td><td>0</td><td>0</td><td>0</td><td>0</td></tr>\n",
       "\t<tr><td>0</td><td>0</td><td>0</td><td>0</td><td>0</td><td>0</td><td>0</td><td>0</td><td>0</td><td>0</td></tr>\n",
       "\t<tr><td>0</td><td>0</td><td>0</td><td>0</td><td>0</td><td>0</td><td>0</td><td>0</td><td>0</td><td>0</td></tr>\n",
       "</tbody>\n",
       "</table>\n"
      ],
      "text/latex": [
       "A matrix: 10 × 10 of type dbl\n",
       "\\begin{tabular}{llllllllll}\n",
       "\t 1 & 1 & 1 & 1 & 1 & 1 & 2 & 2 & 2 & 2\\\\\n",
       "\t 1 & 1 & 1 & 1 & 1 & 1 & 2 & 2 & 2 & 2\\\\\n",
       "\t 1 & 1 & 1 & 1 & 1 & 1 & 2 & 2 & 2 & 2\\\\\n",
       "\t 1 & 1 & 1 & 1 & 1 & 1 & 2 & 2 & 2 & 2\\\\\n",
       "\t 1 & 1 & 1 & 1 & 1 & 1 & 0 & 0 & 0 & 0\\\\\n",
       "\t 1 & 1 & 1 & 1 & 1 & 1 & 0 & 0 & 0 & 0\\\\\n",
       "\t 0 & 0 & 0 & 0 & 0 & 0 & 0 & 0 & 0 & 0\\\\\n",
       "\t 0 & 0 & 0 & 0 & 0 & 0 & 0 & 0 & 0 & 0\\\\\n",
       "\t 0 & 0 & 0 & 0 & 0 & 0 & 0 & 0 & 0 & 0\\\\\n",
       "\t 0 & 0 & 0 & 0 & 0 & 0 & 0 & 0 & 0 & 0\\\\\n",
       "\\end{tabular}\n"
      ],
      "text/markdown": [
       "\n",
       "A matrix: 10 × 10 of type dbl\n",
       "\n",
       "| 1 | 1 | 1 | 1 | 1 | 1 | 2 | 2 | 2 | 2 |\n",
       "| 1 | 1 | 1 | 1 | 1 | 1 | 2 | 2 | 2 | 2 |\n",
       "| 1 | 1 | 1 | 1 | 1 | 1 | 2 | 2 | 2 | 2 |\n",
       "| 1 | 1 | 1 | 1 | 1 | 1 | 2 | 2 | 2 | 2 |\n",
       "| 1 | 1 | 1 | 1 | 1 | 1 | 0 | 0 | 0 | 0 |\n",
       "| 1 | 1 | 1 | 1 | 1 | 1 | 0 | 0 | 0 | 0 |\n",
       "| 0 | 0 | 0 | 0 | 0 | 0 | 0 | 0 | 0 | 0 |\n",
       "| 0 | 0 | 0 | 0 | 0 | 0 | 0 | 0 | 0 | 0 |\n",
       "| 0 | 0 | 0 | 0 | 0 | 0 | 0 | 0 | 0 | 0 |\n",
       "| 0 | 0 | 0 | 0 | 0 | 0 | 0 | 0 | 0 | 0 |\n",
       "\n"
      ],
      "text/plain": [
       "      [,1] [,2] [,3] [,4] [,5] [,6] [,7] [,8] [,9] [,10]\n",
       " [1,] 1    1    1    1    1    1    2    2    2    2    \n",
       " [2,] 1    1    1    1    1    1    2    2    2    2    \n",
       " [3,] 1    1    1    1    1    1    2    2    2    2    \n",
       " [4,] 1    1    1    1    1    1    2    2    2    2    \n",
       " [5,] 1    1    1    1    1    1    0    0    0    0    \n",
       " [6,] 1    1    1    1    1    1    0    0    0    0    \n",
       " [7,] 0    0    0    0    0    0    0    0    0    0    \n",
       " [8,] 0    0    0    0    0    0    0    0    0    0    \n",
       " [9,] 0    0    0    0    0    0    0    0    0    0    \n",
       "[10,] 0    0    0    0    0    0    0    0    0    0    "
      ]
     },
     "metadata": {},
     "output_type": "display_data"
    }
   ],
   "source": [
    "A$frame"
   ]
  }
 ],
 "metadata": {
  "kernelspec": {
   "display_name": "R",
   "language": "R",
   "name": "ir"
  },
  "language_info": {
   "codemirror_mode": "r",
   "file_extension": ".r",
   "mimetype": "text/x-r-source",
   "name": "R",
   "pygments_lexer": "r",
   "version": "4.2.0"
  },
  "orig_nbformat": 4
 },
 "nbformat": 4,
 "nbformat_minor": 2
}
