{
 "cells": [
  {
   "cell_type": "code",
   "execution_count": 13,
   "metadata": {
    "vscode": {
     "languageId": "r"
    }
   },
   "outputs": [],
   "source": [
    "library(R6)\n",
    "\n",
    "square <- R6Class(\"Square\",\n",
    "  public = list(\n",
    "    side = NULL,\n",
    "    area = NULL,\n",
    "    coordinates = NULL,\n",
    "    center = NULL,\n",
    "    initialize = function(side) {\n",
    "      self$side <- side\n",
    "      self$coordinates <- self$calc_coordinates()\n",
    "      self$center <- self$calc_center()\n",
    "      self$area <- side * side\n",
    "    },\n",
    "    set_side = function(val) {\n",
    "      self$side <- val\n",
    "      self$coordinates <- self$calc_coordinates()\n",
    "    },\n",
    "    calc_coordinates = function() {\n",
    "      points <- list()\n",
    "      points$p1 <- list(x = 0, y = 0)\n",
    "      points$p2 <- list(x = 0, y = self$side)\n",
    "      points$p3 <- list(x = self$side, y = 0)\n",
    "      points$p4 <- list(x = self$side, y = self$side)\n",
    "      points\n",
    "    },\n",
    "    calc_center = function() {\n",
    "      point <- list(\n",
    "        x = (self$coordinates$p1$x + self$coordinates$p4$x) / 2,\n",
    "        y = (self$coordinates$p1$y + self$coordinates$p4$y) / 2\n",
    "      )\n",
    "      point\n",
    "    },\n",
    "    add_x = function(x0) {\n",
    "      for (i in 1:length(self$coordinates)) {\n",
    "        self$coordinates[[i]][[1]] <- self$coordinates[[i]][[1]] + x0\n",
    "      }\n",
    "      self$center <- self$calc_center()\n",
    "      self\n",
    "    },\n",
    "    add_y = function(y0) {\n",
    "      for (i in 1:length(self$coordinates)) {\n",
    "        self$coordinates[[i]][[2]] <- self$coordinates[[i]][[2]] + y0\n",
    "      }\n",
    "      self$center <- self$calc_center()\n",
    "      self\n",
    "    },\n",
    "    add_xy = function(x0, y0) {\n",
    "      self$center <- self$add_x(x0)\n",
    "      self$center <- self$add_y(y0)\n",
    "      self$center <- self$calc_center()\n",
    "      self\n",
    "    }\n",
    "  )\n",
    ")"
   ]
  },
  {
   "cell_type": "code",
   "execution_count": 14,
   "metadata": {
    "vscode": {
     "languageId": "r"
    }
   },
   "outputs": [
    {
     "data": {
      "text/html": [
       "0"
      ],
      "text/latex": [
       "0"
      ],
      "text/markdown": [
       "0"
      ],
      "text/plain": [
       "[1] 0"
      ]
     },
     "metadata": {},
     "output_type": "display_data"
    },
    {
     "data": {
      "text/html": [
       "3"
      ],
      "text/latex": [
       "3"
      ],
      "text/markdown": [
       "3"
      ],
      "text/plain": [
       "[1] 3"
      ]
     },
     "metadata": {},
     "output_type": "display_data"
    },
    {
     "data": {
      "text/html": [
       "9"
      ],
      "text/latex": [
       "9"
      ],
      "text/markdown": [
       "9"
      ],
      "text/plain": [
       "[1] 9"
      ]
     },
     "metadata": {},
     "output_type": "display_data"
    },
    {
     "data": {
      "text/html": [
       "1.5"
      ],
      "text/latex": [
       "1.5"
      ],
      "text/markdown": [
       "1.5"
      ],
      "text/plain": [
       "[1] 1.5"
      ]
     },
     "metadata": {},
     "output_type": "display_data"
    }
   ],
   "source": [
    "s1 <- square$new(side = 3)\n",
    "s1$coordinates$p1$x\n",
    "s1$side\n",
    "s1$area\n",
    "s1$center$x"
   ]
  },
  {
   "cell_type": "code",
   "execution_count": 18,
   "metadata": {
    "vscode": {
     "languageId": "r"
    }
   },
   "outputs": [
    {
     "data": {
      "text/plain": [
       "<Square>\n",
       "  Public:\n",
       "    add_x: function (x0) \n",
       "    add_xy: function (x0, y0) \n",
       "    add_y: function (y0) \n",
       "    area: 9\n",
       "    calc_center: function () \n",
       "    calc_coordinates: function () \n",
       "    center: list\n",
       "    clone: function (deep = FALSE) \n",
       "    coordinates: list\n",
       "    initialize: function (side = NA) \n",
       "    set_side: function (val) \n",
       "    side: 3"
      ]
     },
     "metadata": {},
     "output_type": "display_data"
    },
    {
     "name": "stdout",
     "output_type": "stream",
     "text": [
      "$p1\n",
      "$p1$x\n",
      "[1] 6\n",
      "\n",
      "$p1$y\n",
      "[1] 4\n",
      "\n",
      "\n",
      "$p2\n",
      "$p2$x\n",
      "[1] 6\n",
      "\n",
      "$p2$y\n",
      "[1] 7\n",
      "\n",
      "\n",
      "$p3\n",
      "$p3$x\n",
      "[1] 9\n",
      "\n",
      "$p3$y\n",
      "[1] 4\n",
      "\n",
      "\n",
      "$p4\n",
      "$p4$x\n",
      "[1] 9\n",
      "\n",
      "$p4$y\n",
      "[1] 7\n",
      "\n",
      "\n"
     ]
    }
   ],
   "source": [
    "s1$add_x(x0 = 2)$add_xy(x0 = 1, y0 = 2)\n",
    "print(s1$coordinates)"
   ]
  },
  {
   "cell_type": "code",
   "execution_count": null,
   "metadata": {
    "vscode": {
     "languageId": "r"
    }
   },
   "outputs": [],
   "source": [
    "square_canvas <- R6Class(\"SquareCanvas\",\n",
    "    public = list(\n",
    "        max_bound = NULL,\n",
    "        contents = NULL,\n",
    "        frame_override = NULL,\n",
    "        validate = NULL,\n",
    "        allow_rotation = NULL\n",
    "    ),\n",
    "    initialize = function(\n",
    "        max_bound = 10,\n",
    "        contents = list(),\n",
    "        frame_override = NULL,\n",
    "        validate = TRUE,\n",
    "        allow_rotation = FALSE\n",
    "        ) {\n",
    "            self$max_bound <- max_bound\n",
    "\n",
    "        if (is.null(frame_override)){\n",
    "            self$frame <- matrix(0, self$max_bound, self$max_bound)\n",
    "        } else {\n",
    "            self$frame <- frame_override\n",
    "        }\n",
    "\n",
    "        self$x_max <- dim(self$frame)[1]\n",
    "        self$y_max <- dim(self$frame)[2]\n",
    "        self$x_min <- 0\n",
    "        self$y_min <- 0\n",
    "\n",
    "        self$allow_rotation <- allow_rotation\n",
    "        # sorted contents?\n",
    "\n",
    "        for (sq in contents) {\n",
    "            self$add_contents(sq)\n",
    "        }\n",
    "\n",
    "        if (validate) {\n",
    "            self$check_all_filled(contents)\n",
    "        }\n",
    "\n",
    "    },\n",
    "    add_contents = function(sq){\n",
    "\n",
    "    },\n",
    "    validate = function(sq) {\n",
    "\n",
    "    },\n",
    "    x_list = function() {\n",
    "        return(\n",
    "            sapply(self$contents,\n",
    "            function(x) {x$center[1]}))\n",
    "    },\n",
    "    y_list = function() {\n",
    "        return(\n",
    "            sapply(self$contents,\n",
    "            function(x) {x$center[2]}))\n",
    "    },\n",
    "    center_list = function() {\n",
    "        return(\n",
    "            sapply(self$contents, \n",
    "            function(x) {x$center}\n",
    "            )\n",
    "        )\n",
    "    }\n",
    ")"
   ]
  },
  {
   "cell_type": "code",
   "execution_count": 19,
   "metadata": {
    "vscode": {
     "languageId": "r"
    }
   },
   "outputs": [],
   "source": [
    "A = matrix(0, 3, 3)"
   ]
  },
  {
   "cell_type": "code",
   "execution_count": 20,
   "metadata": {
    "vscode": {
     "languageId": "r"
    }
   },
   "outputs": [
    {
     "data": {
      "text/html": [
       "<table class=\"dataframe\">\n",
       "<caption>A matrix: 3 × 3 of type dbl</caption>\n",
       "<tbody>\n",
       "\t<tr><td>0</td><td>0</td><td>0</td></tr>\n",
       "\t<tr><td>0</td><td>0</td><td>0</td></tr>\n",
       "\t<tr><td>0</td><td>0</td><td>0</td></tr>\n",
       "</tbody>\n",
       "</table>\n"
      ],
      "text/latex": [
       "A matrix: 3 × 3 of type dbl\n",
       "\\begin{tabular}{lll}\n",
       "\t 0 & 0 & 0\\\\\n",
       "\t 0 & 0 & 0\\\\\n",
       "\t 0 & 0 & 0\\\\\n",
       "\\end{tabular}\n"
      ],
      "text/markdown": [
       "\n",
       "A matrix: 3 × 3 of type dbl\n",
       "\n",
       "| 0 | 0 | 0 |\n",
       "| 0 | 0 | 0 |\n",
       "| 0 | 0 | 0 |\n",
       "\n"
      ],
      "text/plain": [
       "     [,1] [,2] [,3]\n",
       "[1,] 0    0    0   \n",
       "[2,] 0    0    0   \n",
       "[3,] 0    0    0   "
      ]
     },
     "metadata": {},
     "output_type": "display_data"
    }
   ],
   "source": [
    "A"
   ]
  },
  {
   "cell_type": "code",
   "execution_count": 21,
   "metadata": {
    "vscode": {
     "languageId": "r"
    }
   },
   "outputs": [
    {
     "data": {
      "text/plain": [
       "NULL"
      ]
     },
     "metadata": {},
     "output_type": "display_data"
    }
   ],
   "source": [
    "names(A)"
   ]
  },
  {
   "cell_type": "code",
   "execution_count": 23,
   "metadata": {
    "vscode": {
     "languageId": "r"
    }
   },
   "outputs": [
    {
     "data": {
      "text/html": [
       "3"
      ],
      "text/latex": [
       "3"
      ],
      "text/markdown": [
       "3"
      ],
      "text/plain": [
       "[1] 3"
      ]
     },
     "metadata": {},
     "output_type": "display_data"
    }
   ],
   "source": [
    "dim(A)[1]"
   ]
  },
  {
   "cell_type": "code",
   "execution_count": null,
   "metadata": {
    "vscode": {
     "languageId": "r"
    }
   },
   "outputs": [],
   "source": []
  }
 ],
 "metadata": {
  "kernelspec": {
   "display_name": "R",
   "language": "R",
   "name": "ir"
  },
  "language_info": {
   "codemirror_mode": "r",
   "file_extension": ".r",
   "mimetype": "text/x-r-source",
   "name": "R",
   "pygments_lexer": "r",
   "version": "4.2.0"
  },
  "orig_nbformat": 4
 },
 "nbformat": 4,
 "nbformat_minor": 2
}
