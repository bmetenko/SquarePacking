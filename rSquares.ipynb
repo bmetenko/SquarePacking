{
 "cells": [
  {
   "cell_type": "code",
   "execution_count": 10,
   "metadata": {
    "vscode": {
     "languageId": "r"
    }
   },
   "outputs": [
    {
     "data": {
      "text/html": [
       "'side&lt;-'"
      ],
      "text/latex": [
       "'side<-'"
      ],
      "text/markdown": [
       "'side&lt;-'"
      ],
      "text/plain": [
       "[1] \"side<-\""
      ]
     },
     "metadata": {},
     "output_type": "display_data"
    },
    {
     "data": {
      "text/html": [
       "'coordinates&lt;-'"
      ],
      "text/latex": [
       "'coordinates<-'"
      ],
      "text/markdown": [
       "'coordinates&lt;-'"
      ],
      "text/plain": [
       "[1] \"coordinates<-\""
      ]
     },
     "metadata": {},
     "output_type": "display_data"
    },
    {
     "data": {
      "text/html": [
       "'calc_coordinates'"
      ],
      "text/latex": [
       "'calc\\_coordinates'"
      ],
      "text/markdown": [
       "'calc_coordinates'"
      ],
      "text/plain": [
       "[1] \"calc_coordinates\""
      ]
     },
     "metadata": {},
     "output_type": "display_data"
    }
   ],
   "source": [
    "setClass(\n",
    "    Class = \"Square\",\n",
    "    representation = representation(\n",
    "        side = \"numeric\",\n",
    "        coordinates = \"numeric\"\n",
    "        ),\n",
    ")\n",
    "\n",
    "setGeneric(\"side<-\", function(self, value) standardGeneric(\"side<-\"))\n",
    "setReplaceMethod(\"side\",  \"Square\",  function(self, value) {\n",
    "self@side <- value\n",
    "self\n",
    "}\n",
    ")\n",
    " \n",
    "# Value getting methods\n",
    "setGeneric(\"coordinates<-\", function(self) standardGeneric(\"coordinates<-\"))\n",
    "setMethod(\"coordinates\",  signature(self = \"Square\"),  function(self) {\n",
    "self@coordinates })\n",
    "\n",
    "setGeneric(\"calc_coordinates\", function(self)\n",
    "{ standardGeneric(\"calc_coordinates\")}\n",
    ")\n",
    "setMethod(\"calc_coordinates\",\n",
    "signature(self = \"Square\"),\n",
    "function(self) {\n",
    "    self@coordinates <- list(\n",
    "        p0 = list(x = 0, y = 0),\n",
    "        p1 = list(x = 0, y = self@side),\n",
    "        p2 = list(x = self@side, y = 0),\n",
    "        p3 = list(x = self@side, y = self@side)\n",
    "        )\n",
    "    self\n",
    "    })"
   ]
  },
  {
   "cell_type": "code",
   "execution_count": 9,
   "metadata": {
    "vscode": {
     "languageId": "r"
    }
   },
   "outputs": [
    {
     "name": "stdout",
     "output_type": "stream",
     "text": [
      "An object of class \"Square\"\n",
      "Slot \"side\":\n",
      "numeric(0)\n",
      "\n",
      "Slot \"coordinates\":\n",
      "numeric(0)\n",
      "\n"
     ]
    }
   ],
   "source": [
    "a <- new(\"Square\")\n",
    "print(a)"
   ]
  },
  {
   "cell_type": "code",
   "execution_count": null,
   "metadata": {
    "vscode": {
     "languageId": "r"
    }
   },
   "outputs": [],
   "source": []
  }
 ],
 "metadata": {
  "kernelspec": {
   "display_name": "R",
   "language": "R",
   "name": "ir"
  },
  "language_info": {
   "codemirror_mode": "r",
   "file_extension": ".r",
   "mimetype": "text/x-r-source",
   "name": "R",
   "pygments_lexer": "r",
   "version": "4.2.0"
  },
  "orig_nbformat": 4
 },
 "nbformat": 4,
 "nbformat_minor": 2
}
